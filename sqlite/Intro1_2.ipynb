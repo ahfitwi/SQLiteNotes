{
 "cells": [
  {
   "cell_type": "markdown",
   "metadata": {},
   "source": [
    "                                                                    Compiled By: Alem Fitwi\n",
    "                                                                                 July 2020"
   ]
  },
  {
   "cell_type": "markdown",
   "metadata": {},
   "source": [
    "# 1. Introduction To Database\n",
    "-  **What is Data?**\n",
    "    -In simple words, data can be facts related to any object.\n",
    "- For example:\n",
    "    - Your name, age, and height are related to you\n",
    "    - Pictures, images and files are considered to be data\n",
    "- So, to store data, we need a database.\n",
    "- **What is Database?**\n",
    "    - A database is a collection of information that is organized so that it can easily accessed, managed and updated.\n",
    "    - To manage the data  properly in database properly, we need database management system.\n",
    "- **What is Database Management System?**\n",
    "    - A system sw for creating and manging databases\n",
    "    - Provides users and programmers a systematic way to create, retrieve, update, and delete data.\n",
    "    - Popular DBMS:\n",
    "        - MySQL, MSAccess, Teradata, Oracle, ...\n",
    "- **Use cases of DBMS**:\n",
    "    - Telephone system users' info database\n",
    "    - Electric Bill System DBMS\n",
    "- **Table**\n",
    "    - A table is a collection of related data held in a table format within a database. It consists of coulumns/ fields/ variables and rows/ records/ observations."
   ]
  },
  {
   "cell_type": "markdown",
   "metadata": {},
   "source": [
    "# 2. SQLite Overview\n",
    "- **WHat is SQLite?**\n",
    "    - An open source embedded DB\n",
    "    - Serverless and lightweight DB\n",
    "    - Installed as one of the python3 modules\n",
    "- **Usecase**:\n",
    "    - SQLite is used likely more than all other DB engines combined.\n",
    "    - SQLite is found in:\n",
    "        - Every Android Device\n",
    "        - Every iPhone and iOS device\n",
    "        - Every Mac\n",
    "        - Every Winows 10 Machine\n",
    "        - Every FIrefox, CHrome, and Safari web browser\n",
    "        - Every INstance of Skype.\n",
    "        \n",
    "- **Features of SQLite**\n",
    "    - SQLIte doesn't require a separate server process or system to operate (serverless)\n",
    "    - SQLite comes with zero-configuration, which means no setup or administration needed.\n",
    "    - SQLite is self-contained, which means no external dependencies.\n",
    "- **Install SQLite**\n",
    "    - Install as standard python module\n",
    "    - \\>SQLite3\n",
    "- **Create DB**:\n",
    "    - \\> sqlite3 alem.db\n",
    "    - \\> .databases\n",
    "        - /home/alem/0_Alem/sqlite/alem.db\n",
    "- **Tools**:\n",
    "    - DB Browser\n",
    "    - SQLIteStudio  "
   ]
  },
  {
   "cell_type": "code",
   "execution_count": null,
   "metadata": {},
   "outputs": [],
   "source": []
  }
 ],
 "metadata": {
  "kernelspec": {
   "display_name": "Python 3",
   "language": "python",
   "name": "python3"
  },
  "language_info": {
   "codemirror_mode": {
    "name": "ipython",
    "version": 3
   },
   "file_extension": ".py",
   "mimetype": "text/x-python",
   "name": "python",
   "nbconvert_exporter": "python",
   "pygments_lexer": "ipython3",
   "version": "3.7.4"
  }
 },
 "nbformat": 4,
 "nbformat_minor": 4
}
